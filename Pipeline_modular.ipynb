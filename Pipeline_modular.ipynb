{
  "nbformat": 4,
  "nbformat_minor": 0,
  "metadata": {
    "colab": {
      "provenance": [],
      "authorship_tag": "ABX9TyMP6PE6Hq8fQWz7TPWVBLwZ",
      "include_colab_link": true
    },
    "kernelspec": {
      "name": "python3",
      "display_name": "Python 3"
    },
    "language_info": {
      "name": "python"
    }
  },
  "cells": [
    {
      "cell_type": "markdown",
      "metadata": {
        "id": "view-in-github",
        "colab_type": "text"
      },
      "source": [
        "<a href=\"https://colab.research.google.com/github/kevinpulido89/Design_Patterns/blob/main/Pipeline_modular.ipynb\" target=\"_parent\"><img src=\"https://colab.research.google.com/assets/colab-badge.svg\" alt=\"Open In Colab\"/></a>"
      ]
    },
    {
      "cell_type": "code",
      "source": [
        "from abc import ABC, abstractmethod"
      ],
      "metadata": {
        "id": "K8mNEVez1qVS"
      },
      "execution_count": null,
      "outputs": []
    },
    {
      "cell_type": "code",
      "execution_count": null,
      "metadata": {
        "colab": {
          "base_uri": "https://localhost:8080/"
        },
        "id": "eexUaUY_1fCi",
        "outputId": "6c3b70a0-7806-4c56-9d10-d3de3115ba36"
      },
      "outputs": [
        {
          "output_type": "stream",
          "name": "stdout",
          "text": [
            "CO_DI-> input-data: [1, 2, 3]\n",
            "FE-> input-data: [1, 2, 3, 1, 2, 3, 1, 2, 3]\n",
            "M-> input-data: [1, 2, 3, 1, 2, 3, 1, 2, 3, 99]\n",
            "Post-> input-data: 10\n"
          ]
        },
        {
          "output_type": "execute_result",
          "data": {
            "text/plain": [
              "int"
            ]
          },
          "metadata": {},
          "execution_count": 20
        }
      ],
      "source": [
        "class Pipeline:\n",
        "    def __init__(self, stages):\n",
        "        self.stages = stages\n",
        "\n",
        "    def run(self, data):\n",
        "        for stage in self.stages:\n",
        "            print(f\"{stage.name}-> input-data: {data}\")\n",
        "            data = stage.run(data)\n",
        "        return data\n",
        "\n",
        "class Stage(ABC):\n",
        "    def __init__(self, name):\n",
        "        self.name = name\n",
        "\n",
        "    @abstractmethod\n",
        "    def run(self, data):\n",
        "        \"\"\"Implementation in instance\"\"\"\n",
        "\n",
        "class DataIngestionStage(Stage):\n",
        "    def run(self, data):\n",
        "        data = data * 2\n",
        "        return data\n",
        "\n",
        "class FeatureEngineeringStage(Stage):\n",
        "    def run(self, data):\n",
        "        # Inferir características\n",
        "        data.append(99)\n",
        "        return data\n",
        "\n",
        "class ModelingStage(Stage):\n",
        "    def run(self, data):\n",
        "        data = len(data)\n",
        "        return data\n",
        "\n",
        "class PostProcessingStage(Stage):\n",
        "    def run(self, data):\n",
        "        data = type(data)\n",
        "        return data\n",
        "\n",
        "# Definir etapas específicas para cada país\n",
        "\n",
        "class ColombiaDataIngestionStage(DataIngestionStage):\n",
        "    def run(self, data):\n",
        "        # Ingerir datos específicos para Colombia\n",
        "        data = data * 3\n",
        "        return data\n",
        "\n",
        "class ColombiaFeatureEngineeringStage(FeatureEngineeringStage):\n",
        "    def run(self, data):\n",
        "        # Inferir características específicas para Colombia\n",
        "        return data\n",
        "\n",
        "# Crear pipeline\n",
        "\n",
        "pipeline = Pipeline([\n",
        "    ColombiaDataIngestionStage(\"CO_DI\"),\n",
        "    FeatureEngineeringStage(\"FE\"),\n",
        "    ModelingStage(\"M\"),\n",
        "    PostProcessingStage(\"Post\")\n",
        "])\n",
        "\n",
        "# Ejecutar pipeline\n",
        "dataInput = [1,2,3]\n",
        "output = pipeline.run(dataInput)\n",
        "output"
      ]
    },
    {
      "cell_type": "code",
      "source": [],
      "metadata": {
        "id": "Z1zJmkBRAVDA"
      },
      "execution_count": null,
      "outputs": []
    },
    {
      "cell_type": "code",
      "source": [
        "def country(code):\n",
        "  def monitor(stage):\n",
        "    def wrapper(config, *args, **kwargs):\n",
        "        config['country_code'] = code\n",
        "        return stage(config, *args, **kwargs)\n",
        "    return wrapper\n",
        "  return monitor\n"
      ],
      "metadata": {
        "id": "2qnWET9iAU4U"
      },
      "execution_count": 23,
      "outputs": []
    },
    {
      "cell_type": "code",
      "source": [
        "@country(\"COPEC\")\n",
        "class IngestionStage:\n",
        "\n",
        "    def __init__(self,  onfig:dict) -> None:\n",
        "        self.data0 = data\n",
        "\n",
        "print(IngestionStage({\"a\":1}).data0)"
      ],
      "metadata": {
        "id": "0Bioo-HkAWq-",
        "outputId": "c4a6bb08-e61c-4199-8ddf-0b06913d6773",
        "colab": {
          "base_uri": "https://localhost:8080/"
        }
      },
      "execution_count": 24,
      "outputs": [
        {
          "output_type": "stream",
          "name": "stdout",
          "text": [
            "{'a': 1, 'country_code': 'COPEC'}\n"
          ]
        }
      ]
    },
    {
      "cell_type": "code",
      "source": [
        "import sys\n",
        "\n",
        "sys.version"
      ],
      "metadata": {
        "id": "c8vA44q0A1Zl",
        "outputId": "20f245ae-7dc4-4082-c383-15d8b4116a02",
        "colab": {
          "base_uri": "https://localhost:8080/",
          "height": 36
        }
      },
      "execution_count": 25,
      "outputs": [
        {
          "output_type": "execute_result",
          "data": {
            "text/plain": [
              "'3.10.12 (main, Jun 11 2023, 05:26:28) [GCC 11.4.0]'"
            ],
            "application/vnd.google.colaboratory.intrinsic+json": {
              "type": "string"
            }
          },
          "metadata": {},
          "execution_count": 25
        }
      ]
    },
    {
      "cell_type": "code",
      "source": [],
      "metadata": {
        "id": "HW597aufDv0i"
      },
      "execution_count": null,
      "outputs": []
    }
  ]
}