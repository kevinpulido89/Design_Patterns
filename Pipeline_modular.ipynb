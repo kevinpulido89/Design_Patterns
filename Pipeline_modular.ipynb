{
  "nbformat": 4,
  "nbformat_minor": 0,
  "metadata": {
    "colab": {
      "provenance": [],
      "authorship_tag": "ABX9TyMO95p0FdZHsTb/9Vs33K3q",
      "include_colab_link": true
    },
    "kernelspec": {
      "name": "python3",
      "display_name": "Python 3"
    },
    "language_info": {
      "name": "python"
    }
  },
  "cells": [
    {
      "cell_type": "markdown",
      "metadata": {
        "id": "view-in-github",
        "colab_type": "text"
      },
      "source": [
        "<a href=\"https://colab.research.google.com/github/kevinpulido89/Design_Patterns/blob/main/Pipeline_modular.ipynb\" target=\"_parent\"><img src=\"https://colab.research.google.com/assets/colab-badge.svg\" alt=\"Open In Colab\"/></a>"
      ]
    },
    {
      "cell_type": "code",
      "source": [
        "from abc import ABC, abstractmethod"
      ],
      "metadata": {
        "id": "K8mNEVez1qVS"
      },
      "execution_count": 8,
      "outputs": []
    },
    {
      "cell_type": "code",
      "execution_count": 20,
      "metadata": {
        "colab": {
          "base_uri": "https://localhost:8080/"
        },
        "id": "eexUaUY_1fCi",
        "outputId": "6c3b70a0-7806-4c56-9d10-d3de3115ba36"
      },
      "outputs": [
        {
          "output_type": "stream",
          "name": "stdout",
          "text": [
            "CO_DI-> input-data: [1, 2, 3]\n",
            "FE-> input-data: [1, 2, 3, 1, 2, 3, 1, 2, 3]\n",
            "M-> input-data: [1, 2, 3, 1, 2, 3, 1, 2, 3, 99]\n",
            "Post-> input-data: 10\n"
          ]
        },
        {
          "output_type": "execute_result",
          "data": {
            "text/plain": [
              "int"
            ]
          },
          "metadata": {},
          "execution_count": 20
        }
      ],
      "source": [
        "class Pipeline:\n",
        "    def __init__(self, stages):\n",
        "        self.stages = stages\n",
        "\n",
        "    def run(self, data):\n",
        "        for stage in self.stages:\n",
        "            print(f\"{stage.name}-> input-data: {data}\")\n",
        "            data = stage.run(data)\n",
        "        return data\n",
        "\n",
        "class Stage(ABC):\n",
        "    def __init__(self, name):\n",
        "        self.name = name\n",
        "\n",
        "    @abstractmethod\n",
        "    def run(self, data):\n",
        "        \"\"\"Implementation in instance\"\"\"\n",
        "\n",
        "class DataIngestionStage(Stage):\n",
        "    def run(self, data):\n",
        "        data = data * 2\n",
        "        return data\n",
        "\n",
        "class FeatureEngineeringStage(Stage):\n",
        "    def run(self, data):\n",
        "        # Inferir características\n",
        "        data.append(99)\n",
        "        return data\n",
        "\n",
        "class ModelingStage(Stage):\n",
        "    def run(self, data):\n",
        "        data = len(data)\n",
        "        return data\n",
        "\n",
        "class PostProcessingStage(Stage):\n",
        "    def run(self, data):\n",
        "        data = type(data)\n",
        "        return data\n",
        "\n",
        "# Definir etapas específicas para cada país\n",
        "\n",
        "class ColombiaDataIngestionStage(DataIngestionStage):\n",
        "    def run(self, data):\n",
        "        # Ingerir datos específicos para Colombia\n",
        "        data = data * 3\n",
        "        return data\n",
        "\n",
        "class ColombiaFeatureEngineeringStage(FeatureEngineeringStage):\n",
        "    def run(self, data):\n",
        "        # Inferir características específicas para Colombia\n",
        "        return data\n",
        "\n",
        "# Crear pipeline\n",
        "\n",
        "pipeline = Pipeline([\n",
        "    ColombiaDataIngestionStage(\"CO_DI\"),\n",
        "    FeatureEngineeringStage(\"FE\"),\n",
        "    ModelingStage(\"M\"),\n",
        "    PostProcessingStage(\"Post\")\n",
        "])\n",
        "\n",
        "# Ejecutar pipeline\n",
        "dataInput = [1,2,3]\n",
        "output = pipeline.run(dataInput)\n",
        "output"
      ]
    }
  ]
}